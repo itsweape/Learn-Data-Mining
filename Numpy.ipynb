{
  "nbformat": 4,
  "nbformat_minor": 0,
  "metadata": {
    "colab": {
      "provenance": []
    },
    "kernelspec": {
      "name": "python3",
      "display_name": "Python 3"
    },
    "language_info": {
      "name": "python"
    }
  },
  "cells": [
    {
      "cell_type": "markdown",
      "source": [
        "Check version numpy"
      ],
      "metadata": {
        "id": "HnVg3QJrtHXN"
      }
    },
    {
      "cell_type": "code",
      "execution_count": null,
      "metadata": {
        "colab": {
          "base_uri": "https://localhost:8080/"
        },
        "id": "xeijzDlQssz_",
        "outputId": "e1492a00-e815-4e26-9d43-9a963651968e"
      },
      "outputs": [
        {
          "output_type": "stream",
          "name": "stdout",
          "text": [
            "1.25.2\n"
          ]
        }
      ],
      "source": [
        "import numpy as np\n",
        "print(np.__version__)"
      ]
    },
    {
      "cell_type": "markdown",
      "source": [
        "**Membuat NumPy array**"
      ],
      "metadata": {
        "id": "Fc6aLfOH9Tdy"
      }
    },
    {
      "cell_type": "markdown",
      "source": [
        "Membuat numpy array baru 1D"
      ],
      "metadata": {
        "id": "64v9pRwdtPWn"
      }
    },
    {
      "cell_type": "code",
      "source": [
        "arr = np.array([1,2,3,4,5])\n",
        "print(arr)\n",
        "#cek tipe data\n",
        "print(type(arr))"
      ],
      "metadata": {
        "colab": {
          "base_uri": "https://localhost:8080/"
        },
        "id": "WRl_mxj6tM6D",
        "outputId": "7d5605b1-8a20-43c2-b0d8-eb561db1bbba"
      },
      "execution_count": null,
      "outputs": [
        {
          "output_type": "stream",
          "name": "stdout",
          "text": [
            "[1 2 3 4 5]\n",
            "<class 'numpy.ndarray'>\n"
          ]
        }
      ]
    },
    {
      "cell_type": "markdown",
      "source": [
        "Melihat shape atau bentuk dari numpy array"
      ],
      "metadata": {
        "id": "HF5FJsFXtgqc"
      }
    },
    {
      "cell_type": "code",
      "source": [
        "arr.shape"
      ],
      "metadata": {
        "colab": {
          "base_uri": "https://localhost:8080/"
        },
        "id": "RTIuPBKNtlEh",
        "outputId": "04949cb6-20d9-4b64-8fa5-7a5b3eb2abb0"
      },
      "execution_count": null,
      "outputs": [
        {
          "output_type": "execute_result",
          "data": {
            "text/plain": [
              "(5,)"
            ]
          },
          "metadata": {},
          "execution_count": 3
        }
      ]
    },
    {
      "cell_type": "markdown",
      "source": [
        "Membuat array 2D"
      ],
      "metadata": {
        "id": "aD5QzrYXtrT_"
      }
    },
    {
      "cell_type": "code",
      "source": [
        "arr = np.array([[1,2,3], [4,5,6]])\n",
        "print(arr)"
      ],
      "metadata": {
        "colab": {
          "base_uri": "https://localhost:8080/"
        },
        "id": "L-92FZf_tvMd",
        "outputId": "cb59b588-ad98-475a-dcad-a020f0adac62"
      },
      "execution_count": null,
      "outputs": [
        {
          "output_type": "stream",
          "name": "stdout",
          "text": [
            "[[1 2 3]\n",
            " [4 5 6]]\n"
          ]
        }
      ]
    },
    {
      "cell_type": "markdown",
      "source": [
        "Melihat bentuk/shape array 2D"
      ],
      "metadata": {
        "id": "lwT2Zgnvt63n"
      }
    },
    {
      "cell_type": "code",
      "source": [
        "arr.shape\n",
        "#Angka pertama = member di sumbu 0 -> baris\n",
        "#Angka kedua = member di sumbu 1 -> kolom"
      ],
      "metadata": {
        "colab": {
          "base_uri": "https://localhost:8080/"
        },
        "id": "VSYJOEXct90l",
        "outputId": "76421bd0-b4f8-4a32-f7c7-f003d381cb3b"
      },
      "execution_count": null,
      "outputs": [
        {
          "output_type": "execute_result",
          "data": {
            "text/plain": [
              "(2, 3)"
            ]
          },
          "metadata": {},
          "execution_count": 5
        }
      ]
    },
    {
      "cell_type": "markdown",
      "source": [
        "Membuat array 3D"
      ],
      "metadata": {
        "id": "q1qJTbJouIgV"
      }
    },
    {
      "cell_type": "code",
      "source": [
        "arr = np.array([[[1,2,3], [4,5,6]],[[2,3,4], [5,6,7]]])\n",
        "print(arr)"
      ],
      "metadata": {
        "colab": {
          "base_uri": "https://localhost:8080/"
        },
        "id": "WJTEl_cyuTza",
        "outputId": "6dc99ca4-0ad1-4aca-b982-21057d7aba40"
      },
      "execution_count": null,
      "outputs": [
        {
          "output_type": "stream",
          "name": "stdout",
          "text": [
            "[[[1 2 3]\n",
            "  [4 5 6]]\n",
            "\n",
            " [[2 3 4]\n",
            "  [5 6 7]]]\n"
          ]
        }
      ]
    },
    {
      "cell_type": "markdown",
      "source": [
        "Melihat bentuk shape array 3D"
      ],
      "metadata": {
        "id": "UUKvSkHtuwzx"
      }
    },
    {
      "cell_type": "code",
      "source": [
        "arr.shape\n",
        "#Angka pertama = member di sumbu 0\n",
        "#Angka kedua = member di sumbu 1\n",
        "#Angka ketiga = member di sumbu 2"
      ],
      "metadata": {
        "colab": {
          "base_uri": "https://localhost:8080/"
        },
        "id": "JzkduQrmu0Nm",
        "outputId": "d8c01d11-9ff4-48ae-a76e-123d67461584"
      },
      "execution_count": null,
      "outputs": [
        {
          "output_type": "execute_result",
          "data": {
            "text/plain": [
              "(2, 2, 3)"
            ]
          },
          "metadata": {},
          "execution_count": 7
        }
      ]
    },
    {
      "cell_type": "markdown",
      "source": [
        "Melihat dimensi"
      ],
      "metadata": {
        "id": "PaS1wCq5u868"
      }
    },
    {
      "cell_type": "code",
      "source": [
        "print('jumlah dimensi adalah ' , arr.ndim)"
      ],
      "metadata": {
        "colab": {
          "base_uri": "https://localhost:8080/"
        },
        "id": "C2PhQWEyu_en",
        "outputId": "ff744635-e1dd-4336-af8f-998a647ca265"
      },
      "execution_count": null,
      "outputs": [
        {
          "output_type": "stream",
          "name": "stdout",
          "text": [
            "jumlah dimensi adalah  3\n"
          ]
        }
      ]
    },
    {
      "cell_type": "markdown",
      "source": [
        "Array dengan string sebagai member"
      ],
      "metadata": {
        "id": "0I2G0hesvLjR"
      }
    },
    {
      "cell_type": "code",
      "source": [
        "arr_str = np.array(['hello', 'nama', 'saya', 'rengganis'])\n",
        "print(arr_str)"
      ],
      "metadata": {
        "colab": {
          "base_uri": "https://localhost:8080/"
        },
        "id": "_qzvEZDRvPEJ",
        "outputId": "c70a64bf-7725-4ea9-d341-7062dc73064a"
      },
      "execution_count": null,
      "outputs": [
        {
          "output_type": "stream",
          "name": "stdout",
          "text": [
            "['hello' 'nama' 'saya' 'rengganis']\n"
          ]
        }
      ]
    },
    {
      "cell_type": "markdown",
      "source": [
        "**Indexing dalam NumPy array**"
      ],
      "metadata": {
        "id": "dkJkVEP1veuK"
      }
    },
    {
      "cell_type": "code",
      "source": [
        "arr = np.array([1, 2, 3, 4, 5])\n",
        "print(arr[2]) #menampilkan elemen ke 3\n",
        "print(arr[0] + arr[2]) #hasil jumlah elemen"
      ],
      "metadata": {
        "colab": {
          "base_uri": "https://localhost:8080/"
        },
        "id": "gLXQYd6cve7h",
        "outputId": "4eefba88-03df-4459-df6a-e16f90780d29"
      },
      "execution_count": null,
      "outputs": [
        {
          "output_type": "stream",
          "name": "stdout",
          "text": [
            "3\n",
            "4\n"
          ]
        }
      ]
    },
    {
      "cell_type": "markdown",
      "source": [
        "Mengakses elemen dalam 2D array"
      ],
      "metadata": {
        "id": "Y5zDByMPv7sq"
      }
    },
    {
      "cell_type": "code",
      "source": [
        "arr = np.array([[1, 2, 3], [4, 5, 6]])\n",
        "print('Baris pertama, kolom kedua: ', arr[0,1])\n",
        "print('Baris kedua, kolom ketiga: ',arr[1,2])"
      ],
      "metadata": {
        "colab": {
          "base_uri": "https://localhost:8080/"
        },
        "id": "XzzyNmwhv75B",
        "outputId": "f7664553-055e-4789-bdf1-88d8c3144643"
      },
      "execution_count": null,
      "outputs": [
        {
          "output_type": "stream",
          "name": "stdout",
          "text": [
            "Baris pertama, kolom kesatu:  2\n",
            "Baris kedua, kolom ketiga:  6\n"
          ]
        }
      ]
    },
    {
      "cell_type": "markdown",
      "source": [
        "Menampilkan elemen di 3D array"
      ],
      "metadata": {
        "id": "HaOkXNUZwU_h"
      }
    },
    {
      "cell_type": "code",
      "source": [
        "arr = np.array([[[1, 2, 3], [4, 5, 6]], [[10, 11, 12], [13, 14, 14]]])\n",
        "print(arr)\n",
        "print(arr[1, 0, 1])\n",
        "print(arr[1, 1, 2])"
      ],
      "metadata": {
        "colab": {
          "base_uri": "https://localhost:8080/"
        },
        "id": "Xerx_N37waBL",
        "outputId": "c212f5c1-5e89-49fc-f533-7f2ac3e1a72e"
      },
      "execution_count": null,
      "outputs": [
        {
          "output_type": "stream",
          "name": "stdout",
          "text": [
            "[[[ 1  2  3]\n",
            "  [ 4  5  6]]\n",
            "\n",
            " [[10 11 12]\n",
            "  [13 14 14]]]\n",
            "11\n",
            "14\n"
          ]
        }
      ]
    },
    {
      "cell_type": "markdown",
      "source": [
        "contoh array 3d yang bentuknya sama dengan gambar 3d di slide materi"
      ],
      "metadata": {
        "id": "NipI4WCTxGCg"
      }
    },
    {
      "cell_type": "code",
      "source": [
        "arr_test = np.array([[[1, 2], [3, 4], [5, 6]],\n",
        "[[10, 11], [12, 13], [14, 15]],\n",
        "[[16, 17], [18, 19], [20, 21]],\n",
        "[[22, 23], [24, 25], [26, 27]]])\n",
        "print(arr_test)"
      ],
      "metadata": {
        "colab": {
          "base_uri": "https://localhost:8080/"
        },
        "id": "J_iR3a2KxO7J",
        "outputId": "2dbfa0e7-d313-4312-f434-6794d17fbb95"
      },
      "execution_count": null,
      "outputs": [
        {
          "output_type": "stream",
          "name": "stdout",
          "text": [
            "[[[ 1  2]\n",
            "  [ 3  4]\n",
            "  [ 5  6]]\n",
            "\n",
            " [[10 11]\n",
            "  [12 13]\n",
            "  [14 15]]\n",
            "\n",
            " [[16 17]\n",
            "  [18 19]\n",
            "  [20 21]]\n",
            "\n",
            " [[22 23]\n",
            "  [24 25]\n",
            "  [26 27]]]\n"
          ]
        }
      ]
    },
    {
      "cell_type": "markdown",
      "source": [],
      "metadata": {
        "id": "MhncyCMmxZKJ"
      }
    },
    {
      "cell_type": "code",
      "source": [
        "print(arr_test.shape)"
      ],
      "metadata": {
        "colab": {
          "base_uri": "https://localhost:8080/"
        },
        "id": "4dkBy0xtxezZ",
        "outputId": "ac6ce17f-b086-4509-e329-a3f758ea419e"
      },
      "execution_count": null,
      "outputs": [
        {
          "output_type": "stream",
          "name": "stdout",
          "text": [
            "(4, 3, 2)\n"
          ]
        }
      ]
    },
    {
      "cell_type": "markdown",
      "source": [
        "**NumPy Array Slicing**"
      ],
      "metadata": {
        "id": "kym062t9xgrZ"
      }
    },
    {
      "cell_type": "code",
      "source": [
        "arr = np.array([1,2,3,4,5])\n",
        "print(arr[1:4]) # menampilkan elemen index 1 sampai dengan index ke 4 (index 4 tidak masuk)\n",
        "print(arr[:3]) # menampilkan elemen awal sampai 3 (index 3 tidak masuk)\n",
        "print(arr[2:]) # menampilkan elemen 3 hingga akhir (index 2 termasuk)"
      ],
      "metadata": {
        "colab": {
          "base_uri": "https://localhost:8080/"
        },
        "id": "r98jZYXhxiYW",
        "outputId": "7a849116-7fca-489f-db9a-0065d2ce8f5d"
      },
      "execution_count": null,
      "outputs": [
        {
          "output_type": "stream",
          "name": "stdout",
          "text": [
            "[2 3 4]\n",
            "[1 2 3]\n",
            "[3 4 5]\n"
          ]
        }
      ]
    },
    {
      "cell_type": "markdown",
      "source": [
        "Slicing 2D"
      ],
      "metadata": {
        "id": "tLyBhS47yAJG"
      }
    },
    {
      "cell_type": "code",
      "source": [
        "arr = np.array([[1,2,3], [4,5,6]])\n",
        "# menampilkan angka 5 dan 6\n",
        "#sumbu 0 : index 1\n",
        "#sumbu 1 : index 1 sampai akhir\n",
        "print(arr[1,1:])\n",
        "# menampilkan angka 2 dan 5\n",
        "#sumbu 0 : semua\n",
        "#sumbu 1 : index 1\n",
        "print(arr[:,1])"
      ],
      "metadata": {
        "colab": {
          "base_uri": "https://localhost:8080/"
        },
        "id": "2z0ak_tCyBuN",
        "outputId": "29b612b2-03a8-4348-a089-33f48b90430a"
      },
      "execution_count": null,
      "outputs": [
        {
          "output_type": "stream",
          "name": "stdout",
          "text": [
            "[5 6]\n",
            "[2 5]\n"
          ]
        }
      ]
    },
    {
      "cell_type": "markdown",
      "source": [
        "Slicing 3d"
      ],
      "metadata": {
        "id": "Asik89ymyUP4"
      }
    },
    {
      "cell_type": "code",
      "source": [
        "arr = np.array([[[1, 2, 3], [4, 5, 6]],[[10, 11, 12], [13, 14, 15]]])\n",
        "print(arr[1, 1, 1:])"
      ],
      "metadata": {
        "colab": {
          "base_uri": "https://localhost:8080/"
        },
        "id": "GMbe4n2wyVk0",
        "outputId": "e6a423db-2fd6-4fed-cc8e-ce44cfb5defe"
      },
      "execution_count": null,
      "outputs": [
        {
          "output_type": "stream",
          "name": "stdout",
          "text": [
            "[14 15]\n"
          ]
        }
      ]
    },
    {
      "cell_type": "markdown",
      "source": [
        "**Mengonversi Tipe Data**"
      ],
      "metadata": {
        "id": "lz8uXQEGybDW"
      }
    },
    {
      "cell_type": "code",
      "source": [
        "arr = np.array(['1','2','3','4','5'])\n",
        "newarr = arr.astype('i')\n",
        "print(arr)\n",
        "print(newarr)"
      ],
      "metadata": {
        "colab": {
          "base_uri": "https://localhost:8080/"
        },
        "id": "8S9SNAyNyhbb",
        "outputId": "1972a3d0-dff5-44ae-bf42-1834e02ed77d"
      },
      "execution_count": null,
      "outputs": [
        {
          "output_type": "stream",
          "name": "stdout",
          "text": [
            "['1' '2' '3' '4' '5']\n",
            "[1 2 3 4 5]\n"
          ]
        }
      ]
    },
    {
      "cell_type": "markdown",
      "source": [
        "Merubah string ke float"
      ],
      "metadata": {
        "id": "jm5KORVIyzMt"
      }
    },
    {
      "cell_type": "code",
      "source": [
        "arr = np.array(['1','2','3','4','5'])\n",
        "newarr = arr.astype('f')\n",
        "print(arr)\n",
        "print(newarr)"
      ],
      "metadata": {
        "colab": {
          "base_uri": "https://localhost:8080/"
        },
        "id": "MvAIlJ4zy1Qw",
        "outputId": "36637730-4ea1-4a8a-a466-7c517fa865a6"
      },
      "execution_count": null,
      "outputs": [
        {
          "output_type": "stream",
          "name": "stdout",
          "text": [
            "['1' '2' '3' '4' '5']\n",
            "[1. 2. 3. 4. 5.]\n"
          ]
        }
      ]
    },
    {
      "cell_type": "markdown",
      "source": [
        "Reshape"
      ],
      "metadata": {
        "id": "NhgerYgQy8P9"
      }
    },
    {
      "cell_type": "code",
      "source": [
        "# 1d ke 2d\n",
        "# pastikan jumlah elemen nya cukup ketika dirubah ke bentuk lain\n",
        "arr = np.array([1,2,3,4,5,6,7,8,9,10,11,12])\n",
        "print(arr)\n",
        "new_arr = arr.reshape(3,4)\n",
        "# sumbu 0 : 3 member\n",
        "# sumbu 1 : 4 member\n",
        "print(new_arr)"
      ],
      "metadata": {
        "colab": {
          "base_uri": "https://localhost:8080/"
        },
        "id": "H2O3xsvUy9R7",
        "outputId": "9a390aed-ea24-41ac-9a92-784ce0cec9d6"
      },
      "execution_count": null,
      "outputs": [
        {
          "output_type": "stream",
          "name": "stdout",
          "text": [
            "[ 1  2  3  4  5  6  7  8  9 10 11 12]\n",
            "[[ 1  2  3  4]\n",
            " [ 5  6  7  8]\n",
            " [ 9 10 11 12]]\n"
          ]
        }
      ]
    },
    {
      "cell_type": "code",
      "source": [
        "print(new_arr.shape)"
      ],
      "metadata": {
        "colab": {
          "base_uri": "https://localhost:8080/"
        },
        "id": "kXWAfaHfzRgt",
        "outputId": "ae4993f6-b6b1-46bd-88ab-229cea41fa71"
      },
      "execution_count": null,
      "outputs": [
        {
          "output_type": "stream",
          "name": "stdout",
          "text": [
            "(3, 4)\n"
          ]
        }
      ]
    },
    {
      "cell_type": "markdown",
      "source": [
        "2D ke 3D array"
      ],
      "metadata": {
        "id": "TdgAJtrqzX-2"
      }
    },
    {
      "cell_type": "code",
      "source": [
        "arr = np.array([1,2,3,4,5,6,7,8,9,10,11,12])\n",
        "print(arr)\n",
        "print('')\n",
        "new_arr = arr.reshape(2,3,2)\n",
        "print(new_arr)"
      ],
      "metadata": {
        "colab": {
          "base_uri": "https://localhost:8080/"
        },
        "id": "g0R-H8BLzXu1",
        "outputId": "995f20e2-292b-407a-b99c-ea9e640e0c7b"
      },
      "execution_count": null,
      "outputs": [
        {
          "output_type": "stream",
          "name": "stdout",
          "text": [
            "[ 1  2  3  4  5  6  7  8  9 10 11 12]\n",
            "\n",
            "[[[ 1  2]\n",
            "  [ 3  4]\n",
            "  [ 5  6]]\n",
            "\n",
            " [[ 7  8]\n",
            "  [ 9 10]\n",
            "  [11 12]]]\n"
          ]
        }
      ]
    },
    {
      "cell_type": "code",
      "source": [
        "print(new_arr.shape)"
      ],
      "metadata": {
        "colab": {
          "base_uri": "https://localhost:8080/"
        },
        "id": "QFTPQA-RzoZK",
        "outputId": "ebb37fd2-6bef-42cc-f71c-e19ad7f1e4e4"
      },
      "execution_count": null,
      "outputs": [
        {
          "output_type": "stream",
          "name": "stdout",
          "text": [
            "(2, 3, 2)\n"
          ]
        }
      ]
    },
    {
      "cell_type": "markdown",
      "source": [
        "3D array ke 1 array"
      ],
      "metadata": {
        "id": "mpAKBq0pzrVH"
      }
    },
    {
      "cell_type": "code",
      "source": [
        "arr = np.array([[[1, 2, 3], [4, 5, 6]],[[10, 11, 12], [13, 14, 15]]])\n",
        "print(arr)\n",
        "print('sudah di reshape')\n",
        "new_arr = arr.reshape(-1)\n",
        "print(new_arr)"
      ],
      "metadata": {
        "colab": {
          "base_uri": "https://localhost:8080/"
        },
        "id": "60kqa8QUztxX",
        "outputId": "024d6df2-6672-46a0-def4-28c06abb1a7a"
      },
      "execution_count": null,
      "outputs": [
        {
          "output_type": "stream",
          "name": "stdout",
          "text": [
            "[[[ 1  2  3]\n",
            "  [ 4  5  6]]\n",
            "\n",
            " [[10 11 12]\n",
            "  [13 14 15]]]\n",
            "sudah di reshape\n",
            "[ 1  2  3  4  5  6 10 11 12 13 14 15]\n"
          ]
        }
      ]
    },
    {
      "cell_type": "markdown",
      "source": [
        "Perbedaan len dan shape"
      ],
      "metadata": {
        "id": "0UJQG9Ot0D6u"
      }
    },
    {
      "cell_type": "code",
      "source": [
        "print(len(arr))\n",
        "print(arr.shape)"
      ],
      "metadata": {
        "colab": {
          "base_uri": "https://localhost:8080/"
        },
        "id": "NClUOawk0Hlk",
        "outputId": "3c2272ec-b334-4720-ca8c-710f85be5773"
      },
      "execution_count": null,
      "outputs": [
        {
          "output_type": "stream",
          "name": "stdout",
          "text": [
            "2\n",
            "(2, 2, 3)\n"
          ]
        }
      ]
    },
    {
      "cell_type": "markdown",
      "source": [
        "Iteration"
      ],
      "metadata": {
        "id": "mrSWwFSu0N61"
      }
    },
    {
      "cell_type": "code",
      "source": [
        "arr = np.array([1,2,3,4,5,6,7,8,9,10,11,12])\n",
        "for i in arr:\n",
        "  print(i)"
      ],
      "metadata": {
        "colab": {
          "base_uri": "https://localhost:8080/"
        },
        "id": "p3_sGkVi0PK4",
        "outputId": "20a15027-1000-466d-a7e6-9fe2438de07a"
      },
      "execution_count": null,
      "outputs": [
        {
          "output_type": "stream",
          "name": "stdout",
          "text": [
            "1\n",
            "2\n",
            "3\n",
            "4\n",
            "5\n",
            "6\n",
            "7\n",
            "8\n",
            "9\n",
            "10\n",
            "11\n",
            "12\n"
          ]
        }
      ]
    },
    {
      "cell_type": "code",
      "source": [
        "arr = np.array([1,2,3,4,5,6,7,8,9,10,11,12])\n",
        "for i in range(len(arr)):\n",
        "  print(arr[i])"
      ],
      "metadata": {
        "colab": {
          "base_uri": "https://localhost:8080/"
        },
        "id": "TQ8NIhhB0ZV0",
        "outputId": "632d2717-53c4-4add-9f1f-7e078d9b8c3b"
      },
      "execution_count": null,
      "outputs": [
        {
          "output_type": "stream",
          "name": "stdout",
          "text": [
            "1\n",
            "2\n",
            "3\n",
            "4\n",
            "5\n",
            "6\n",
            "7\n",
            "8\n",
            "9\n",
            "10\n",
            "11\n",
            "12\n"
          ]
        }
      ]
    },
    {
      "cell_type": "code",
      "source": [
        "arr = np.array([1,2,3,4,5,6,7,8,9,10,11,12])\n",
        "for i in range(arr.shape[0]):\n",
        "  print(arr[i])"
      ],
      "metadata": {
        "colab": {
          "base_uri": "https://localhost:8080/"
        },
        "id": "AxyDENZb0r4j",
        "outputId": "43d730ee-a428-4830-fd37-7229bf0db7c5"
      },
      "execution_count": null,
      "outputs": [
        {
          "output_type": "stream",
          "name": "stdout",
          "text": [
            "1\n",
            "2\n",
            "3\n",
            "4\n",
            "5\n",
            "6\n",
            "7\n",
            "8\n",
            "9\n",
            "10\n",
            "11\n",
            "12\n"
          ]
        }
      ]
    },
    {
      "cell_type": "markdown",
      "source": [
        "Iterasi array 2D"
      ],
      "metadata": {
        "id": "Yv2GFm5a04JC"
      }
    },
    {
      "cell_type": "code",
      "source": [
        "arr = np.array([[1,2,3], [4,5,6]])\n",
        "for i in arr:\n",
        "  for j in i:\n",
        "    print(j)"
      ],
      "metadata": {
        "colab": {
          "base_uri": "https://localhost:8080/"
        },
        "id": "MumfIgdH06YJ",
        "outputId": "0af07ef4-c531-424e-f692-2ec8c5ef7ee5"
      },
      "execution_count": null,
      "outputs": [
        {
          "output_type": "stream",
          "name": "stdout",
          "text": [
            "1\n",
            "2\n",
            "3\n",
            "4\n",
            "5\n",
            "6\n"
          ]
        }
      ]
    },
    {
      "cell_type": "code",
      "source": [
        "for i in range(len(arr)):\n",
        "  for j in range(len(arr[i])):\n",
        "    print(arr[i,j])"
      ],
      "metadata": {
        "colab": {
          "base_uri": "https://localhost:8080/"
        },
        "id": "vTa8yesm1Ibz",
        "outputId": "f8d2dd7e-64e6-48e6-87a2-109b40c0fe18"
      },
      "execution_count": null,
      "outputs": [
        {
          "output_type": "stream",
          "name": "stdout",
          "text": [
            "1\n",
            "2\n",
            "3\n",
            "4\n",
            "5\n",
            "6\n"
          ]
        }
      ]
    },
    {
      "cell_type": "markdown",
      "source": [
        "Iterasi array 3D"
      ],
      "metadata": {
        "id": "SsvLn3691Zt-"
      }
    },
    {
      "cell_type": "code",
      "source": [
        "arr = np.array([[[1,2,3], [4,5,6]], [[10,11,12], [13,14,15]]])\n",
        "for i in arr:\n",
        "  for j in i:\n",
        "    for z in j:\n",
        "      print(z)\n",
        "    print('')\n",
        "  print('')"
      ],
      "metadata": {
        "colab": {
          "base_uri": "https://localhost:8080/"
        },
        "id": "ciFoKPkN1bht",
        "outputId": "40f93bc9-469f-4b7c-c278-6998e181011a"
      },
      "execution_count": null,
      "outputs": [
        {
          "output_type": "stream",
          "name": "stdout",
          "text": [
            "1\n",
            "2\n",
            "3\n",
            "\n",
            "4\n",
            "5\n",
            "6\n",
            "\n",
            "\n",
            "10\n",
            "11\n",
            "12\n",
            "\n",
            "13\n",
            "14\n",
            "15\n",
            "\n",
            "\n"
          ]
        }
      ]
    },
    {
      "cell_type": "code",
      "source": [
        "arr = np.array([[[1,2,3], [4,5,6]], [[10,11,12], [13,14,15]]])\n",
        "for i in range(arr.shape[0]):\n",
        "  for j in range(arr.shape[1]):\n",
        "    for z in range(arr.shape[2]):\n",
        "      print(arr[i,j,z])\n",
        "    print('')\n",
        "  print('')"
      ],
      "metadata": {
        "colab": {
          "base_uri": "https://localhost:8080/"
        },
        "id": "PAvjfSSv1yBz",
        "outputId": "60fa2944-3ec3-4256-f673-da21b03a0c34"
      },
      "execution_count": null,
      "outputs": [
        {
          "output_type": "stream",
          "name": "stdout",
          "text": [
            "1\n",
            "2\n",
            "3\n",
            "\n",
            "4\n",
            "5\n",
            "6\n",
            "\n",
            "\n",
            "10\n",
            "11\n",
            "12\n",
            "\n",
            "13\n",
            "14\n",
            "15\n",
            "\n",
            "\n"
          ]
        }
      ]
    },
    {
      "cell_type": "markdown",
      "source": [
        "Join"
      ],
      "metadata": {
        "id": "1_msmKtx2OnL"
      }
    },
    {
      "cell_type": "code",
      "source": [
        "#sumbu 0 array 1D\n",
        "arr1 = np.array([1,2,3])\n",
        "arr2 = np.array([4,5,6])\n",
        "\n",
        "arr3 = np.concatenate((arr1, arr2), axis=0)\n",
        "print(arr3)"
      ],
      "metadata": {
        "colab": {
          "base_uri": "https://localhost:8080/"
        },
        "id": "iWwJytrn2Pcp",
        "outputId": "4cbcc530-ba55-4275-f06d-f4f36199f7e3"
      },
      "execution_count": null,
      "outputs": [
        {
          "output_type": "stream",
          "name": "stdout",
          "text": [
            "[1 2 3 4 5 6]\n"
          ]
        }
      ]
    },
    {
      "cell_type": "code",
      "source": [
        "#join array 2d\n",
        "arr1 = np.array([[1,2,3], [4,5,6]])\n",
        "arr2 = np.array([[11,12,13], [14,15,16]])\n",
        "\n",
        "print(arr1)\n",
        "print('')\n",
        "print(arr2)"
      ],
      "metadata": {
        "colab": {
          "base_uri": "https://localhost:8080/"
        },
        "id": "bTYRxPY82pRz",
        "outputId": "58b4a527-355f-427a-88bf-8eb89f5768cd"
      },
      "execution_count": null,
      "outputs": [
        {
          "output_type": "stream",
          "name": "stdout",
          "text": [
            "[[1 2 3]\n",
            " [4 5 6]]\n",
            "\n",
            "[[11 12 13]\n",
            " [14 15 16]]\n"
          ]
        }
      ]
    },
    {
      "cell_type": "code",
      "source": [
        "#kita menambah di sumbu 0\n",
        "arr3 = np.concatenate((arr1, arr2), axis=0)\n",
        "print(arr3)"
      ],
      "metadata": {
        "colab": {
          "base_uri": "https://localhost:8080/"
        },
        "id": "rMebQcwg3DIb",
        "outputId": "49eb51a8-06bd-416f-e000-20de77fc8db0"
      },
      "execution_count": null,
      "outputs": [
        {
          "output_type": "stream",
          "name": "stdout",
          "text": [
            "[[ 1  2  3]\n",
            " [ 4  5  6]\n",
            " [11 12 13]\n",
            " [14 15 16]]\n"
          ]
        }
      ]
    },
    {
      "cell_type": "markdown",
      "source": [
        "array split"
      ],
      "metadata": {
        "id": "c0AmoYP23Tm4"
      }
    },
    {
      "cell_type": "code",
      "source": [
        "arr = np.array([1,2,3,4,5,6,7,8,9,10,11,12])\n",
        "#dipisah menjadi 3 bagian array\n",
        "new_arr = np.array_split(arr, 3)\n",
        "print('sebelum')\n",
        "print(arr)\n",
        "print('sesudah')\n",
        "print(new_arr)\n",
        "narr = new_arr[2]\n",
        "print('akses index 2')\n",
        "print(narr)"
      ],
      "metadata": {
        "colab": {
          "base_uri": "https://localhost:8080/"
        },
        "id": "tya0ZhWF3TWw",
        "outputId": "b1792025-e5df-4a2e-9797-dc599e4f8482"
      },
      "execution_count": null,
      "outputs": [
        {
          "output_type": "stream",
          "name": "stdout",
          "text": [
            "sebelum\n",
            "[ 1  2  3  4  5  6  7  8  9 10 11 12]\n",
            "sesudah\n",
            "[array([1, 2, 3, 4]), array([5, 6, 7, 8]), array([ 9, 10, 11, 12])]\n",
            "akses index 2\n",
            "[ 9 10 11 12]\n"
          ]
        }
      ]
    },
    {
      "cell_type": "code",
      "source": [
        "arr = np.array([1,2,3,4,5,6,7,8,9,10,11,12])\n",
        "#dipisah menjadi 5 bagian array\n",
        "new_arr = np.array_split(arr, 5)\n",
        "print('sebelum')\n",
        "print(arr)\n",
        "print('sesudah')\n",
        "print(new_arr)\n",
        "print('akses index 2')\n",
        "narr = new_arr[2]\n",
        "print(narr)"
      ],
      "metadata": {
        "colab": {
          "base_uri": "https://localhost:8080/"
        },
        "id": "2myKkxIE4G6H",
        "outputId": "558c8d50-4ab2-4145-b009-5a7072762377"
      },
      "execution_count": null,
      "outputs": [
        {
          "output_type": "stream",
          "name": "stdout",
          "text": [
            "sebelum\n",
            "[ 1  2  3  4  5  6  7  8  9 10 11 12]\n",
            "sesudah\n",
            "[array([1, 2, 3]), array([4, 5, 6]), array([7, 8]), array([ 9, 10]), array([11, 12])]\n",
            "akses index 2\n",
            "[7 8]\n"
          ]
        }
      ]
    },
    {
      "cell_type": "code",
      "source": [
        "#array search\n",
        "arr = np.array([1,2,3,4,5,6,7,8,9,10,11,12])\n",
        "#mencari elemen yg nilainya 3, dan mengembalikan indeksnya\n",
        "x = np.where(arr==3)\n",
        "print(x)"
      ],
      "metadata": {
        "colab": {
          "base_uri": "https://localhost:8080/"
        },
        "id": "JiSeFKwV4UaB",
        "outputId": "3b3f276c-60ec-4fa4-b616-0abf6cc46657"
      },
      "execution_count": null,
      "outputs": [
        {
          "output_type": "stream",
          "name": "stdout",
          "text": [
            "(array([2]),)\n"
          ]
        }
      ]
    },
    {
      "cell_type": "code",
      "source": [
        "#sorting\n",
        "arr = np.array([11,21,3,4,19,21,1,12])\n",
        "print(arr)\n",
        "\n",
        "new_arr = np.sort(arr)\n",
        "print(new_arr)"
      ],
      "metadata": {
        "colab": {
          "base_uri": "https://localhost:8080/"
        },
        "id": "Vy3fIr4H4w7n",
        "outputId": "3984ad86-ec59-4221-94b9-9beb427805a3"
      },
      "execution_count": null,
      "outputs": [
        {
          "output_type": "stream",
          "name": "stdout",
          "text": [
            "[11 21  3  4 19 21  1 12]\n",
            "[ 1  3  4 11 12 19 21 21]\n"
          ]
        }
      ]
    },
    {
      "cell_type": "code",
      "source": [
        "#random\n",
        "from numpy import random\n",
        "\n",
        "x = random.rand(2)\n",
        "print(x)"
      ],
      "metadata": {
        "colab": {
          "base_uri": "https://localhost:8080/"
        },
        "id": "QehpDo1i5GY8",
        "outputId": "185a518e-3370-4a83-df59-40a865efd704"
      },
      "execution_count": null,
      "outputs": [
        {
          "output_type": "stream",
          "name": "stdout",
          "text": [
            "[0.05758638 0.60307109]\n"
          ]
        }
      ]
    },
    {
      "cell_type": "code",
      "source": [
        "#ufuncs\n",
        "arr1 = np.array([1,2,3,4,5])\n",
        "arr2 = np.array([10,20,30,40,50])\n",
        "arr3 = np.add(arr1, arr2)\n",
        "print(arr3)\n"
      ],
      "metadata": {
        "colab": {
          "base_uri": "https://localhost:8080/"
        },
        "id": "rITGPbGw5R2u",
        "outputId": "60a671a9-f58f-41d2-d309-6ca98072bceb"
      },
      "execution_count": null,
      "outputs": [
        {
          "output_type": "stream",
          "name": "stdout",
          "text": [
            "[11 22 33 44 55]\n"
          ]
        }
      ]
    },
    {
      "cell_type": "code",
      "source": [
        "#summation\n",
        "arr1 = np.array([1,2,3,4,5])\n",
        "arr3 = np.sum(arr1)\n",
        "print(arr3)"
      ],
      "metadata": {
        "colab": {
          "base_uri": "https://localhost:8080/"
        },
        "id": "JY1iAQG_6l5a",
        "outputId": "5382f0a8-ad62-48d2-bd74-313a0bc31284"
      },
      "execution_count": null,
      "outputs": [
        {
          "output_type": "stream",
          "name": "stdout",
          "text": [
            "15\n"
          ]
        }
      ]
    },
    {
      "cell_type": "code",
      "source": [
        "#product of element\n",
        "arr1 = np.array([1,2,3,4,5])\n",
        "arr3 = np.prod(arr1)\n",
        "print(arr3)"
      ],
      "metadata": {
        "colab": {
          "base_uri": "https://localhost:8080/"
        },
        "id": "wszynaWi7C5c",
        "outputId": "ee95dc73-7156-4b0b-9950-74df72ec814a"
      },
      "execution_count": null,
      "outputs": [
        {
          "output_type": "stream",
          "name": "stdout",
          "text": [
            "120\n"
          ]
        }
      ]
    }
  ]
}